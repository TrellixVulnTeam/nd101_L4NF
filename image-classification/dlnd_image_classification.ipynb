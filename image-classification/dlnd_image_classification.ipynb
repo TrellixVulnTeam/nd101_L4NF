{
 "cells": [
  {
   "cell_type": "markdown",
   "metadata": {
    "collapsed": true,
    "deletable": true,
    "editable": true
   },
   "source": [
    "# Image Classification\n",
    "In this project, you'll classify images from the [CIFAR-10 dataset](https://www.cs.toronto.edu/~kriz/cifar.html).  The dataset consists of airplanes, dogs, cats, and other objects. You'll preprocess the images, then train a convolutional neural network on all the samples. The images need to be normalized and the labels need to be one-hot encoded.  You'll get to apply what you learned and build a convolutional, max pooling, dropout, and fully connected layers.  At the end, you'll get to see your neural network's predictions on the sample images.\n",
    "## Get the Data\n",
    "Run the following cell to download the [CIFAR-10 dataset for python](https://www.cs.toronto.edu/~kriz/cifar-10-python.tar.gz)."
   ]
  },
  {
   "cell_type": "code",
   "execution_count": 1,
   "metadata": {
    "collapsed": false,
    "deletable": true,
    "editable": true
   },
   "outputs": [
    {
     "name": "stderr",
     "output_type": "stream",
     "text": [
      "CIFAR-10 Dataset: 171MB [00:36, 4.63MB/s]                              \n"
     ]
    },
    {
     "name": "stdout",
     "output_type": "stream",
     "text": [
      "All files found!\n"
     ]
    }
   ],
   "source": [
    "\"\"\"\n",
    "DON'T MODIFY ANYTHING IN THIS CELL THAT IS BELOW THIS LINE\n",
    "\"\"\"\n",
    "from urllib.request import urlretrieve\n",
    "from os.path import isfile, isdir\n",
    "from tqdm import tqdm\n",
    "import problem_unittests as tests\n",
    "import tarfile\n",
    "\n",
    "cifar10_dataset_folder_path = 'cifar-10-batches-py'\n",
    "\n",
    "class DLProgress(tqdm):\n",
    "    last_block = 0\n",
    "\n",
    "    def hook(self, block_num=1, block_size=1, total_size=None):\n",
    "        self.total = total_size\n",
    "        self.update((block_num - self.last_block) * block_size)\n",
    "        self.last_block = block_num\n",
    "\n",
    "if not isfile('cifar-10-python.tar.gz'):\n",
    "    with DLProgress(unit='B', unit_scale=True, miniters=1, desc='CIFAR-10 Dataset') as pbar:\n",
    "        urlretrieve(\n",
    "            'https://www.cs.toronto.edu/~kriz/cifar-10-python.tar.gz',\n",
    "            'cifar-10-python.tar.gz',\n",
    "            pbar.hook)\n",
    "\n",
    "if not isdir(cifar10_dataset_folder_path):\n",
    "    with tarfile.open('cifar-10-python.tar.gz') as tar:\n",
    "        tar.extractall()\n",
    "        tar.close()\n",
    "\n",
    "\n",
    "tests.test_folder_path(cifar10_dataset_folder_path)"
   ]
  },
  {
   "cell_type": "markdown",
   "metadata": {
    "deletable": true,
    "editable": true
   },
   "source": [
    "## Explore the Data\n",
    "The dataset is broken into batches to prevent your machine from running out of memory.  The CIFAR-10 dataset consists of 5 batches, named `data_batch_1`, `data_batch_2`, etc.. Each batch contains the labels and images that are one of the following:\n",
    "* airplane\n",
    "* automobile\n",
    "* bird\n",
    "* cat\n",
    "* deer\n",
    "* dog\n",
    "* frog\n",
    "* horse\n",
    "* ship\n",
    "* truck\n",
    "\n",
    "Understanding a dataset is part of making predictions on the data.  Play around with the code cell below by changing the `batch_id` and `sample_id`. The `batch_id` is the id for a batch (1-5). The `sample_id` is the id for a image and label pair in the batch.\n",
    "\n",
    "Ask yourself \"What are all possible labels?\", \"What is the range of values for the image data?\", \"Are the labels in order or random?\".  Answers to questions like these will help you preprocess the data and end up with better predictions."
   ]
  },
  {
   "cell_type": "code",
   "execution_count": 2,
   "metadata": {
    "collapsed": false,
    "deletable": true,
    "editable": true
   },
   "outputs": [
    {
     "name": "stdout",
     "output_type": "stream",
     "text": [
      "\n",
      "Stats of batch 3:\n",
      "Samples: 10000\n",
      "Label Counts: {0: 994, 1: 1042, 2: 965, 3: 997, 4: 990, 5: 1029, 6: 978, 7: 1015, 8: 961, 9: 1029}\n",
      "First 20 Labels: [8, 5, 0, 6, 9, 2, 8, 3, 6, 2, 7, 4, 6, 9, 0, 0, 7, 3, 7, 2]\n",
      "\n",
      "Example of Image 9999:\n",
      "Image - Min Value: 3 Max Value: 242\n",
      "Image - Shape: (32, 32, 3)\n",
      "Label - Label Id: 1 Name: automobile\n"
     ]
    },
    {
     "data": {
      "image/png": "[encoded data removed]",
      "text/plain": [
       "<matplotlib.figure.Figure at 0x7fa97c6744e0>"
      ]
     },
     "metadata": {
      "image/png": {
       "height": 250,
       "width": 253
      }
     },
     "output_type": "display_data"
    }
   ],
   "source": [
    "%matplotlib inline\n",
    "%config InlineBackend.figure_format = 'retina'\n",
    "\n",
    "import helper\n",
    "import numpy as np\n",
    "\n",
    "# Explore the dataset\n",
    "batch_id = 3\n",
    "sample_id = 9999\n",
    "helper.display_stats(cifar10_dataset_folder_path, batch_id, sample_id)"
   ]
  },
  {
   "cell_type": "markdown",
   "metadata": {
    "deletable": true,
    "editable": true
   },
   "source": [
    "## Implement Preprocess Functions\n",
    "### Normalize\n",
    "In the cell below, implement the `normalize` function to take in image data, `x`, and return it as a normalized Numpy array. The values should be in the range of 0 to 1, inclusive.  The return object should be the same shape as `x`."
   ]
  },
  {
   "cell_type": "code",
   "execution_count": 4,
   "metadata": {
    "collapsed": false,
    "deletable": true,
    "editable": true
   },
   "outputs": [
    {
     "name": "stdout",
     "output_type": "stream",
     "text": [
      "Tests Passed\n"
     ]
    }
   ],
   "source": [
    "def normalize(x):\n",
    "    \"\"\"\n",
    "    Normalize a list of sample image data in the range of 0 to 1\n",
    "    : x: List of image data.  The image shape is (32, 32, 3)\n",
    "    : return: Numpy array of normalize data\n",
    "    \"\"\"\n",
    "    x_min = np.min(x)\n",
    "    x_max = np.max(x)\n",
    "    return (x - x_min)/(x_max - x_min)\n",
    "\n",
    "\n",
    "\"\"\"\n",
    "DON'T MODIFY ANYTHING IN THIS CELL THAT IS BELOW THIS LINE\n",
    "\"\"\"\n",
    "tests.test_normalize(normalize)"
   ]
  },
  {
   "cell_type": "markdown",
   "metadata": {
    "deletable": true,
    "editable": true
   },
   "source": [
    "### One-hot encode\n",
    "Just like the previous code cell, you'll be implementing a function for preprocessing.  This time, you'll implement the `one_hot_encode` function. The input, `x`, are a list of labels.  Implement the function to return the list of labels as One-Hot encoded Numpy array.  The possible values for labels are 0 to 9. The one-hot encoding function should return the same encoding for each value between each call to `one_hot_encode`.  Make sure to save the map of encodings outside the function.\n",
    "\n",
    "Hint: Don't reinvent the wheel."
   ]
  },
  {
   "cell_type": "code",
   "execution_count": 5,
   "metadata": {
    "collapsed": false,
    "deletable": true,
    "editable": true
   },
   "outputs": [
    {
     "name": "stdout",
     "output_type": "stream",
     "text": [
      "Tests Passed\n"
     ]
    }
   ],
   "source": [
    "from sklearn import preprocessing\n",
    "def one_hot_encode(x):\n",
    "    \"\"\"\n",
    "    One hot encode a list of sample labels. Return a one-hot encoded vector for each label.\n",
    "    : x: List of sample Labels\n",
    "    : return: Numpy array of one-hot encoded labels\n",
    "    \"\"\"\n",
    "    return np.eye(10)[x]\n",
    "    \n",
    "\n",
    "\"\"\"\n",
    "DON'T MODIFY ANYTHING IN THIS CELL THAT IS BELOW THIS LINE\n",
    "\"\"\"\n",
    "tests.test_one_hot_encode(one_hot_encode)"
   ]
  },
  {
   "cell_type": "markdown",
   "metadata": {
    "deletable": true,
    "editable": true
   },
   "source": [
    "### Randomize Data\n",
    "As you saw from exploring the data above, the order of the samples are randomized.  It doesn't hurt to randomize it again, but you don't need to for this dataset."
   ]
  },
  {
   "cell_type": "markdown",
   "metadata": {
    "deletable": true,
    "editable": true
   },
   "source": [
    "## Preprocess all the data and save it\n",
    "Running the code cell below will preprocess all the CIFAR-10 data and save it to file. The code below also uses 10% of the training data for validation."
   ]
  },
  {
   "cell_type": "code",
   "execution_count": 6,
   "metadata": {
    "collapsed": false,
    "deletable": true,
    "editable": true
   },
   "outputs": [],
   "source": [
    "\"\"\"\n",
    "DON'T MODIFY ANYTHING IN THIS CELL\n",
    "\"\"\"\n",
    "# Preprocess Training, Validation, and Testing Data\n",
    "helper.preprocess_and_save_data(cifar10_dataset_folder_path, normalize, one_hot_encode)"
   ]
  },
  {
   "cell_type": "markdown",
   "metadata": {
    "deletable": true,
    "editable": true
   },
   "source": [
    "# Check Point\n",
    "This is your first checkpoint.  If you ever decide to come back to this notebook or have to restart the notebook, you can start from here.  The preprocessed data has been saved to disk."
   ]
  },
  {
   "cell_type": "code",
   "execution_count": 7,
   "metadata": {
    "collapsed": true,
    "deletable": true,
    "editable": true
   },
   "outputs": [],
   "source": [
    "\"\"\"\n",
    "DON'T MODIFY ANYTHING IN THIS CELL\n",
    "\"\"\"\n",
    "import pickle\n",
    "import problem_unittests as tests\n",
    "import helper\n",
    "\n",
    "# Load the Preprocessed Validation data\n",
    "valid_features, valid_labels = pickle.load(open('preprocess_validation.p', mode='rb'))"
   ]
  },
  {
   "cell_type": "markdown",
   "metadata": {
    "deletable": true,
    "editable": true
   },
   "source": [
    "## Build the network\n",
    "For the neural network, you'll build each layer into a function.  Most of the code you've seen has been outside of functions. To test your code more thoroughly, we require that you put each layer in a function.  This allows us to give you better feedback and test for simple mistakes using our unittests before you submit your project.\n",
    "\n",
    ">**Note:** If you're finding it hard to dedicate enough time for this course each week, we've provided a small shortcut to this part of the project. In the next couple of problems, you'll have the option to use classes from the [TensorFlow Layers](https://www.tensorflow.org/api_docs/python/tf/layers) or [TensorFlow Layers (contrib)](https://www.tensorflow.org/api_guides/python/contrib.layers) packages to build each layer, except the layers you build in the \"Convolutional and Max Pooling Layer\" section.  TF Layers is similar to Keras's and TFLearn's abstraction to layers, so it's easy to pickup.\n",
    "\n",
    ">However, if you would like to get the most out of this course, try to solve all the problems _without_ using anything from the TF Layers packages. You **can** still use classes from other packages that happen to have the same name as ones you find in TF Layers! For example, instead of using the TF Layers version of the `conv2d` class, [tf.layers.conv2d](https://www.tensorflow.org/api_docs/python/tf/layers/conv2d), you would want to use the TF Neural Network version of `conv2d`, [tf.nn.conv2d](https://www.tensorflow.org/api_docs/python/tf/nn/conv2d). \n",
    "\n",
    "Let's begin!\n",
    "\n",
    "### Input\n",
    "The neural network needs to read the image data, one-hot encoded labels, and dropout keep probability. Implement the following functions\n",
    "* Implement `neural_net_image_input`\n",
    " * Return a [TF Placeholder](https://www.tensorflow.org/api_docs/python/tf/placeholder)\n",
    " * Set the shape using `image_shape` with batch size set to `None`.\n",
    " * Name the TensorFlow placeholder \"x\" using the TensorFlow `name` parameter in the [TF Placeholder](https://www.tensorflow.org/api_docs/python/tf/placeholder).\n",
    "* Implement `neural_net_label_input`\n",
    " * Return a [TF Placeholder](https://www.tensorflow.org/api_docs/python/tf/placeholder)\n",
    " * Set the shape using `n_classes` with batch size set to `None`.\n",
    " * Name the TensorFlow placeholder \"y\" using the TensorFlow `name` parameter in the [TF Placeholder](https://www.tensorflow.org/api_docs/python/tf/placeholder).\n",
    "* Implement `neural_net_keep_prob_input`\n",
    " * Return a [TF Placeholder](https://www.tensorflow.org/api_docs/python/tf/placeholder) for dropout keep probability.\n",
    " * Name the TensorFlow placeholder \"keep_prob\" using the TensorFlow `name` parameter in the [TF Placeholder](https://www.tensorflow.org/api_docs/python/tf/placeholder).\n",
    "\n",
    "These names will be used at the end of the project to load your saved model.\n",
    "\n",
    "Note: `None` for shapes in TensorFlow allow for a dynamic size."
   ]
  },
  {
   "cell_type": "code",
   "execution_count": 8,
   "metadata": {
    "collapsed": false,
    "deletable": true,
    "editable": true
   },
   "outputs": [
    {
     "name": "stdout",
     "output_type": "stream",
     "text": [
      "Image Input Tests Passed.\n",
      "Label Input Tests Passed.\n",
      "Keep Prob Tests Passed.\n"
     ]
    }
   ],
   "source": [
    "import tensorflow as tf\n",
    "\n",
    "def neural_net_image_input(image_shape):\n",
    "    \"\"\"\n",
    "    Return a Tensor for a bach of image input\n",
    "    : image_shape: Shape of the images\n",
    "    : return: Tensor for image input.\n",
    "    \"\"\"\n",
    "    return tf.placeholder(tf.float32, shape=[None, *image_shape], name='x')\n",
    "\n",
    "\n",
    "def neural_net_label_input(n_classes):\n",
    "    \"\"\"\n",
    "    Return a Tensor for a batch of label input\n",
    "    : n_classes: Number of classes\n",
    "    : return: Tensor for label input.\n",
    "    \"\"\"\n",
    "    return tf.placeholder(tf.float32, shape=[None, n_classes], name='y')\n",
    "\n",
    "\n",
    "def neural_net_keep_prob_input():\n",
    "    \"\"\"\n",
    "    Return a Tensor for keep probability\n",
    "    : return: Tensor for keep probability.\n",
    "    \"\"\"\n",
    "    return tf.placeholder(tf.float32, name='keep_prob')\n",
    "\n",
    "\n",
    "\"\"\"\n",
    "DON'T MODIFY ANYTHING IN THIS CELL THAT IS BELOW THIS LINE\n",
    "\"\"\"\n",
    "tf.reset_default_graph()\n",
    "tests.test_nn_image_inputs(neural_net_image_input)\n",
    "tests.test_nn_label_inputs(neural_net_label_input)\n",
    "tests.test_nn_keep_prob_inputs(neural_net_keep_prob_input)"
   ]
  },
  {
   "cell_type": "markdown",
   "metadata": {
    "deletable": true,
    "editable": true
   },
   "source": [
    "### Convolution and Max Pooling Layer\n",
    "Convolution layers have a lot of success with images. For this code cell, you should implement the function `conv2d_maxpool` to apply convolution then max pooling:\n",
    "* Create the weight and bias using `conv_ksize`, `conv_num_outputs` and the shape of `x_tensor`.\n",
    "* Apply a convolution to `x_tensor` using weight and `conv_strides`.\n",
    " * We recommend you use same padding, but you're welcome to use any padding.\n",
    "* Add bias\n",
    "* Add a nonlinear activation to the convolution.\n",
    "* Apply Max Pooling using `pool_ksize` and `pool_strides`.\n",
    " * We recommend you use same padding, but you're welcome to use any padding.\n",
    "\n",
    "Note: You **can't** use [TensorFlow Layers](https://www.tensorflow.org/api_docs/python/tf/layers) or [TensorFlow Layers (contrib)](https://www.tensorflow.org/api_guides/python/contrib.layers) for this layer.  You're free to use any TensorFlow package for all the other layers."
   ]
  },
  {
   "cell_type": "code",
   "execution_count": 9,
   "metadata": {
    "collapsed": false,
    "deletable": true,
    "editable": true
   },
   "outputs": [
    {
     "name": "stdout",
     "output_type": "stream",
     "text": [
      "Tests Passed\n"
     ]
    }
   ],
   "source": [
    "def conv2d_maxpool(x_tensor, conv_num_outputs, conv_ksize, conv_strides, pool_ksize, pool_strides):\n",
    "    \"\"\"\n",
    "    Apply convolution then max pooling to x_tensor\n",
    "    :param x_tensor: TensorFlow Tensor\n",
    "    :param conv_num_outputs: Number of outputs for the convolutional layer\n",
    "    :param conv_ksize: kernal size 2-D Tuple for the convolutional layer\n",
    "    :param conv_strides: Stride 2-D Tuple for convolution\n",
    "    :param pool_ksize: kernal size 2-D Tuple for pool\n",
    "    :param pool_strides: Stride 2-D Tuple for pool\n",
    "    : return: A tensor that represents convolution and max pooling of x_tensor\n",
    "    \"\"\"\n",
    "    input_depth = int(x_tensor.shape[3])\n",
    "    output_depth = conv_num_outputs\n",
    "    W_shape = [*conv_ksize, input_depth, output_depth]\n",
    "    W = tf.Variable(tf.random_normal(W_shape, stddev=0.1))\n",
    "    b = tf.Variable(tf.zeros(output_depth))\n",
    "    \n",
    "    conv_strides_shape = [1, *conv_strides, 1]\n",
    "    x = tf.nn.conv2d(x_tensor, W, strides=conv_strides_shape, padding='SAME')\n",
    "    \n",
    "    x = tf.nn.bias_add(x, b)\n",
    "    x = tf.nn.relu(x)\n",
    "    \n",
    "    pool_ksize_shape = [1, *pool_ksize, 1]\n",
    "    pool_strides_shape = [1, *pool_strides, 1]\n",
    "    x = tf.nn.max_pool(x, pool_ksize_shape, pool_strides_shape, padding='SAME')\n",
    "    return x\n",
    "\n",
    "\"\"\"\n",
    "DON'T MODIFY ANYTHING IN THIS CELL THAT IS BELOW THIS LINE\n",
    "\"\"\"\n",
    "tests.test_con_pool(conv2d_maxpool)"
   ]
  },
  {
   "cell_type": "markdown",
   "metadata": {
    "deletable": true,
    "editable": true
   },
   "source": [
    "### Flatten Layer\n",
    "Implement the `flatten` function to change the dimension of `x_tensor` from a 4-D tensor to a 2-D tensor.  The output should be the shape (*Batch Size*, *Flattened Image Size*). Shortcut option: you can use classes from the [TensorFlow Layers](https://www.tensorflow.org/api_docs/python/tf/layers) or [TensorFlow Layers (contrib)](https://www.tensorflow.org/api_guides/python/contrib.layers) packages for this layer. For more of a challenge, only use other TensorFlow packages."
   ]
  },
  {
   "cell_type": "code",
   "execution_count": 10,
   "metadata": {
    "collapsed": false,
    "deletable": true,
    "editable": true
   },
   "outputs": [
    {
     "name": "stdout",
     "output_type": "stream",
     "text": [
      "Tests Passed\n"
     ]
    }
   ],
   "source": [
    "def flatten(x_tensor):\n",
    "    \"\"\"\n",
    "    Flatten x_tensor to (Batch Size, Flattened Image Size)\n",
    "    : x_tensor: A tensor of size (Batch Size, ...), where ... are the image dimensions.\n",
    "    : return: A tensor of size (Batch Size, Flattened Image Size).\n",
    "    \"\"\"\n",
    "    return tf.contrib.layers.flatten(x_tensor)\n",
    "\n",
    "\n",
    "\"\"\"\n",
    "DON'T MODIFY ANYTHING IN THIS CELL THAT IS BELOW THIS LINE\n",
    "\"\"\"\n",
    "tests.test_flatten(flatten)"
   ]
  },
  {
   "cell_type": "markdown",
   "metadata": {
    "deletable": true,
    "editable": true
   },
   "source": [
    "### Fully-Connected Layer\n",
    "Implement the `fully_conn` function to apply a fully connected layer to `x_tensor` with the shape (*Batch Size*, *num_outputs*). You can use [TensorFlow Layers](https://www.tensorflow.org/api_docs/python/tf/layers) or [TensorFlow Layers (contrib)](https://www.tensorflow.org/api_guides/python/contrib.layers) for this layer."
   ]
  },
  {
   "cell_type": "code",
   "execution_count": 11,
   "metadata": {
    "collapsed": false,
    "deletable": true,
    "editable": true
   },
   "outputs": [
    {
     "name": "stdout",
     "output_type": "stream",
     "text": [
      "Tests Passed\n"
     ]
    }
   ],
   "source": [
    "def fully_conn(x_tensor, num_outputs):\n",
    "    \"\"\"\n",
    "    Apply a fully connected layer to x_tensor using weight and bias\n",
    "    : x_tensor: A 2-D tensor where the first dimension is batch size.\n",
    "    : num_outputs: The number of output that the new tensor should be.\n",
    "    : return: A 2-D tensor where the second dimension is num_outputs.\n",
    "    \"\"\"\n",
    "    return tf.contrib.layers.fully_connected(x_tensor, num_outputs, activation_fn=tf.nn.relu)\n",
    "\n",
    "\n",
    "\"\"\"\n",
    "DON'T MODIFY ANYTHING IN THIS CELL THAT IS BELOW THIS LINE\n",
    "\"\"\"\n",
    "tests.test_fully_conn(fully_conn)"
   ]
  },
  {
   "cell_type": "markdown",
   "metadata": {
    "deletable": true,
    "editable": true
   },
   "source": [
    "### Output Layer\n",
    "Implement the `output` function to apply a fully connected layer to `x_tensor` with the shape (*Batch Size*, *num_outputs*). Shortcut option: you can use classes from the [TensorFlow Layers](https://www.tensorflow.org/api_docs/python/tf/layers) or [TensorFlow Layers (contrib)](https://www.tensorflow.org/api_guides/python/contrib.layers) packages for this layer. For more of a challenge, only use other TensorFlow packages.\n",
    "\n",
    "**Note:** Activation, softmax, or cross entropy should **not** be applied to this."
   ]
  },
  {
   "cell_type": "code",
   "execution_count": 12,
   "metadata": {
    "collapsed": false,
    "deletable": true,
    "editable": true
   },
   "outputs": [
    {
     "name": "stdout",
     "output_type": "stream",
     "text": [
      "Tests Passed\n"
     ]
    }
   ],
   "source": [
    "def output(x_tensor, num_outputs):\n",
    "    \"\"\"\n",
    "    Apply a output layer to x_tensor using weight and bias\n",
    "    : x_tensor: A 2-D tensor where the first dimension is batch size.\n",
    "    : num_outputs: The number of output that the new tensor should be.\n",
    "    : return: A 2-D tensor where the second dimension is num_outputs.\n",
    "    \"\"\"\n",
    "    return tf.contrib.layers.fully_connected(x_tensor, num_outputs, activation_fn=None)\n",
    "\n",
    "\n",
    "\"\"\"\n",
    "DON'T MODIFY ANYTHING IN THIS CELL THAT IS BELOW THIS LINE\n",
    "\"\"\"\n",
    "tests.test_output(output)"
   ]
  },
  {
   "cell_type": "markdown",
   "metadata": {
    "deletable": true,
    "editable": true
   },
   "source": [
    "### Create Convolutional Model\n",
    "Implement the function `conv_net` to create a convolutional neural network model. The function takes in a batch of images, `x`, and outputs logits.  Use the layers you created above to create this model:\n",
    "\n",
    "* Apply 1, 2, or 3 Convolution and Max Pool layers\n",
    "* Apply a Flatten Layer\n",
    "* Apply 1, 2, or 3 Fully Connected Layers\n",
    "* Apply an Output Layer\n",
    "* Return the output\n",
    "* Apply [TensorFlow's Dropout](https://www.tensorflow.org/api_docs/python/tf/nn/dropout) to one or more layers in the model using `keep_prob`. "
   ]
  },
  {
   "cell_type": "code",
   "execution_count": 27,
   "metadata": {
    "collapsed": false,
    "deletable": true,
    "editable": true
   },
   "outputs": [
    {
     "name": "stdout",
     "output_type": "stream",
     "text": [
      "Neural Network Built!\n"
     ]
    }
   ],
   "source": [
    "def conv_net(x, keep_prob):\n",
    "    \"\"\"\n",
    "    Create a convolutional neural network model\n",
    "    : x: Placeholder tensor that holds image data.\n",
    "    : keep_prob: Placeholder tensor that hold dropout keep probability.\n",
    "    : return: Tensor that represents logits\n",
    "    \"\"\"\n",
    "    # TODO: Apply 1, 2, or 3 Convolution and Max Pool layers\n",
    "    #    Play around with different number of outputs, kernel size and stride\n",
    "    # Function Definition from Above:\n",
    "    #    conv2d_maxpool(x_tensor, conv_num_outputs, conv_ksize, conv_strides, pool_ksize, pool_strides)\n",
    "    x = conv2d_maxpool(x, 64, (3, 3), (1, 1), (3, 3), (2, 2))\n",
    "    x = conv2d_maxpool(x, 64, (4, 4), (1, 1), (3, 3), (2, 2))\n",
    "    x = conv2d_maxpool(x, 64, (3, 3), (1, 1), (2, 2), (2, 2))\n",
    "\n",
    "    # TODO: Apply a Flatten Layer\n",
    "    # Function Definition from Above:\n",
    "    #   flatten(x_tensor)\n",
    "    x = flatten(x)\n",
    "    \n",
    "\n",
    "    # TODO: Apply 1, 2, or 3 Fully Connected Layers\n",
    "    #    Play around with different number of outputs\n",
    "    # Function Definition from Above:\n",
    "    #   fully_conn(x_tensor, num_outputs)\n",
    "    x = fully_conn(x, 512)\n",
    "    x = tf.nn.dropout(x, keep_prob)\n",
    "    x = fully_conn(x, 192)\n",
    "    x = tf.nn.dropout(x, keep_prob)\n",
    "    \n",
    "    \n",
    "    # TODO: Apply an Output Layer\n",
    "    #    Set this to the number of classes\n",
    "    # Function Definition from Above:\n",
    "    #   output(x_tensor, num_outputs)\n",
    "    x = output(x, 10)\n",
    "    \n",
    "    # TODO: return output\n",
    "    return x\n",
    "\n",
    "\n",
    "\"\"\"\n",
    "DON'T MODIFY ANYTHING IN THIS CELL THAT IS BELOW THIS LINE\n",
    "\"\"\"\n",
    "\n",
    "##############################\n",
    "## Build the Neural Network ##\n",
    "##############################\n",
    "\n",
    "# Remove previous weights, bias, inputs, etc..\n",
    "tf.reset_default_graph()\n",
    "\n",
    "# Inputs\n",
    "x = neural_net_image_input((32, 32, 3))\n",
    "y = neural_net_label_input(10)\n",
    "keep_prob = neural_net_keep_prob_input()\n",
    "\n",
    "# Model\n",
    "logits = conv_net(x, keep_prob)\n",
    "\n",
    "# Name logits Tensor, so that is can be loaded from disk after training\n",
    "logits = tf.identity(logits, name='logits')\n",
    "\n",
    "# Loss and Optimizer\n",
    "cost = tf.reduce_mean(tf.nn.softmax_cross_entropy_with_logits(logits=logits, labels=y))\n",
    "optimizer = tf.train.AdamOptimizer().minimize(cost)\n",
    "\n",
    "# Accuracy\n",
    "correct_pred = tf.equal(tf.argmax(logits, 1), tf.argmax(y, 1))\n",
    "accuracy = tf.reduce_mean(tf.cast(correct_pred, tf.float32), name='accuracy')\n",
    "\n",
    "tests.test_conv_net(conv_net)"
   ]
  },
  {
   "cell_type": "markdown",
   "metadata": {
    "deletable": true,
    "editable": true
   },
   "source": [
    "## Train the Neural Network\n",
    "### Single Optimization\n",
    "Implement the function `train_neural_network` to do a single optimization.  The optimization should use `optimizer` to optimize in `session` with a `feed_dict` of the following:\n",
    "* `x` for image input\n",
    "* `y` for labels\n",
    "* `keep_prob` for keep probability for dropout\n",
    "\n",
    "This function will be called for each batch, so `tf.global_variables_initializer()` has already been called.\n",
    "\n",
    "Note: Nothing needs to be returned. This function is only optimizing the neural network."
   ]
  },
  {
   "cell_type": "code",
   "execution_count": 28,
   "metadata": {
    "collapsed": false,
    "deletable": true,
    "editable": true
   },
   "outputs": [
    {
     "name": "stdout",
     "output_type": "stream",
     "text": [
      "Tests Passed\n"
     ]
    }
   ],
   "source": [
    "def train_neural_network(session, optimizer, keep_probability, feature_batch, label_batch):\n",
    "    \"\"\"\n",
    "    Optimize the session on a batch of images and labels\n",
    "    : session: Current TensorFlow session\n",
    "    : optimizer: TensorFlow optimizer function\n",
    "    : keep_probability: keep probability\n",
    "    : feature_batch: Batch of Numpy image data\n",
    "    : label_batch: Batch of Numpy label data\n",
    "    \"\"\"\n",
    "    # TODO: Implement Function\n",
    "    session.run(optimizer, feed_dict={x: feature_batch, y: label_batch, keep_prob: keep_probability})\n",
    "\n",
    "\n",
    "\"\"\"\n",
    "DON'T MODIFY ANYTHING IN THIS CELL THAT IS BELOW THIS LINE\n",
    "\"\"\"\n",
    "tests.test_train_nn(train_neural_network)"
   ]
  },
  {
   "cell_type": "markdown",
   "metadata": {
    "deletable": true,
    "editable": true
   },
   "source": [
    "### Show Stats\n",
    "Implement the function `print_stats` to print loss and validation accuracy.  Use the global variables `valid_features` and `valid_labels` to calculate validation accuracy.  Use a keep probability of `1.0` to calculate the loss and validation accuracy."
   ]
  },
  {
   "cell_type": "code",
   "execution_count": 29,
   "metadata": {
    "collapsed": false,
    "deletable": true,
    "editable": true
   },
   "outputs": [],
   "source": [
    "def print_stats(session, feature_batch, label_batch, cost, accuracy):\n",
    "    \"\"\"\n",
    "    Print information about loss and validation accuracy\n",
    "    : session: Current TensorFlow session\n",
    "    : feature_batch: Batch of Numpy image data\n",
    "    : label_batch: Batch of Numpy label data\n",
    "    : cost: TensorFlow cost function\n",
    "    : accuracy: TensorFlow accuracy function\n",
    "    \"\"\"\n",
    "    loss = session.run(cost, feed_dict={x: feature_batch, y: label_batch, keep_prob: 1.})\n",
    "    valid_accuracy = session.run(accuracy, feed_dict={x: valid_features, y: valid_labels, keep_prob: 1.})\n",
    "    print('Loss: {:>10.4f} Validation Accuracy: {:.6f}'.format(loss, valid_accuracy))"
   ]
  },
  {
   "cell_type": "markdown",
   "metadata": {
    "deletable": true,
    "editable": true
   },
   "source": [
    "### Hyperparameters\n",
    "Tune the following parameters:\n",
    "* Set `epochs` to the number of iterations until the network stops learning or start overfitting\n",
    "* Set `batch_size` to the highest number that your machine has memory for.  Most people set them to common sizes of memory:\n",
    " * 64\n",
    " * 128\n",
    " * 256\n",
    " * ...\n",
    "* Set `keep_probability` to the probability of keeping a node using dropout"
   ]
  },
  {
   "cell_type": "code",
   "execution_count": 30,
   "metadata": {
    "collapsed": true,
    "deletable": true,
    "editable": true
   },
   "outputs": [],
   "source": [
    "# TODO: Tune Parameters\n",
    "epochs = 50\n",
    "batch_size = 512\n",
    "keep_probability = 0.5"
   ]
  },
  {
   "cell_type": "markdown",
   "metadata": {
    "deletable": true,
    "editable": true
   },
   "source": [
    "### Train on a Single CIFAR-10 Batch\n",
    "Instead of training the neural network on all the CIFAR-10 batches of data, let's use a single batch. This should save time while you iterate on the model to get a better accuracy.  Once the final validation accuracy is 50% or greater, run the model on all the data in the next section."
   ]
  },
  {
   "cell_type": "code",
   "execution_count": 31,
   "metadata": {
    "collapsed": false,
    "deletable": true,
    "editable": true
   },
   "outputs": [
    {
     "name": "stdout",
     "output_type": "stream",
     "text": [
      "Checking the Training on a Single Batch...\n",
      "Epoch  1, CIFAR-10 Batch 1:  Loss:     2.2377 Validation Accuracy: 0.220800\n",
      "Epoch  2, CIFAR-10 Batch 1:  Loss:     1.9756 Validation Accuracy: 0.337200\n",
      "Epoch  3, CIFAR-10 Batch 1:  Loss:     1.8184 Validation Accuracy: 0.377200\n",
      "Epoch  4, CIFAR-10 Batch 1:  Loss:     1.6975 Validation Accuracy: 0.405000\n",
      "Epoch  5, CIFAR-10 Batch 1:  Loss:     1.5716 Validation Accuracy: 0.447800\n",
      "Epoch  6, CIFAR-10 Batch 1:  Loss:     1.5198 Validation Accuracy: 0.461600\n",
      "Epoch  7, CIFAR-10 Batch 1:  Loss:     1.4326 Validation Accuracy: 0.484000\n",
      "Epoch  8, CIFAR-10 Batch 1:  Loss:     1.3251 Validation Accuracy: 0.509400\n",
      "Epoch  9, CIFAR-10 Batch 1:  Loss:     1.2754 Validation Accuracy: 0.507200\n",
      "Epoch 10, CIFAR-10 Batch 1:  Loss:     1.2518 Validation Accuracy: 0.509000\n",
      "Epoch 11, CIFAR-10 Batch 1:  Loss:     1.1328 Validation Accuracy: 0.541400\n",
      "Epoch 12, CIFAR-10 Batch 1:  Loss:     1.0651 Validation Accuracy: 0.553000\n",
      "Epoch 13, CIFAR-10 Batch 1:  Loss:     1.0012 Validation Accuracy: 0.556800\n",
      "Epoch 14, CIFAR-10 Batch 1:  Loss:     0.9439 Validation Accuracy: 0.568800\n",
      "Epoch 15, CIFAR-10 Batch 1:  Loss:     0.8528 Validation Accuracy: 0.577400\n",
      "Epoch 16, CIFAR-10 Batch 1:  Loss:     0.7916 Validation Accuracy: 0.586000\n",
      "Epoch 17, CIFAR-10 Batch 1:  Loss:     0.7695 Validation Accuracy: 0.575800\n",
      "Epoch 18, CIFAR-10 Batch 1:  Loss:     0.6832 Validation Accuracy: 0.592800\n",
      "Epoch 19, CIFAR-10 Batch 1:  Loss:     0.6592 Validation Accuracy: 0.587600\n",
      "Epoch 20, CIFAR-10 Batch 1:  Loss:     0.6820 Validation Accuracy: 0.562200\n",
      "Epoch 21, CIFAR-10 Batch 1:  Loss:     0.5529 Validation Accuracy: 0.596400\n",
      "Epoch 22, CIFAR-10 Batch 1:  Loss:     0.5455 Validation Accuracy: 0.608800\n",
      "Epoch 23, CIFAR-10 Batch 1:  Loss:     0.5328 Validation Accuracy: 0.598400\n",
      "Epoch 24, CIFAR-10 Batch 1:  Loss:     0.4864 Validation Accuracy: 0.588800\n",
      "Epoch 25, CIFAR-10 Batch 1:  Loss:     0.4231 Validation Accuracy: 0.596600\n",
      "Epoch 26, CIFAR-10 Batch 1:  Loss:     0.4626 Validation Accuracy: 0.585200\n",
      "Epoch 27, CIFAR-10 Batch 1:  Loss:     0.4186 Validation Accuracy: 0.588400\n",
      "Epoch 28, CIFAR-10 Batch 1:  Loss:     0.4306 Validation Accuracy: 0.596200\n",
      "Epoch 29, CIFAR-10 Batch 1:  Loss:     0.3248 Validation Accuracy: 0.601200\n",
      "Epoch 30, CIFAR-10 Batch 1:  Loss:     0.2944 Validation Accuracy: 0.609800\n",
      "Epoch 31, CIFAR-10 Batch 1:  Loss:     0.2872 Validation Accuracy: 0.623600\n",
      "Epoch 32, CIFAR-10 Batch 1:  Loss:     0.2724 Validation Accuracy: 0.622000\n",
      "Epoch 33, CIFAR-10 Batch 1:  Loss:     0.2359 Validation Accuracy: 0.619000\n",
      "Epoch 34, CIFAR-10 Batch 1:  Loss:     0.2023 Validation Accuracy: 0.619800\n",
      "Epoch 35, CIFAR-10 Batch 1:  Loss:     0.1763 Validation Accuracy: 0.621200\n",
      "Epoch 36, CIFAR-10 Batch 1:  Loss:     0.1635 Validation Accuracy: 0.610200\n",
      "Epoch 37, CIFAR-10 Batch 1:  Loss:     0.1693 Validation Accuracy: 0.614800\n",
      "Epoch 38, CIFAR-10 Batch 1:  Loss:     0.1631 Validation Accuracy: 0.612600\n",
      "Epoch 39, CIFAR-10 Batch 1:  Loss:     0.1205 Validation Accuracy: 0.622600\n",
      "Epoch 40, CIFAR-10 Batch 1:  Loss:     0.1285 Validation Accuracy: 0.616000\n",
      "Epoch 41, CIFAR-10 Batch 1:  Loss:     0.0974 Validation Accuracy: 0.625800\n",
      "Epoch 42, CIFAR-10 Batch 1:  Loss:     0.0957 Validation Accuracy: 0.610600\n",
      "Epoch 43, CIFAR-10 Batch 1:  Loss:     0.0832 Validation Accuracy: 0.626600\n",
      "Epoch 44, CIFAR-10 Batch 1:  Loss:     0.0990 Validation Accuracy: 0.630200\n",
      "Epoch 45, CIFAR-10 Batch 1:  Loss:     0.0771 Validation Accuracy: 0.614400\n",
      "Epoch 46, CIFAR-10 Batch 1:  Loss:     0.0755 Validation Accuracy: 0.610000\n",
      "Epoch 47, CIFAR-10 Batch 1:  Loss:     0.0785 Validation Accuracy: 0.597000\n",
      "Epoch 48, CIFAR-10 Batch 1:  Loss:     0.0678 Validation Accuracy: 0.605600\n",
      "Epoch 49, CIFAR-10 Batch 1:  Loss:     0.0731 Validation Accuracy: 0.629600\n",
      "Epoch 50, CIFAR-10 Batch 1:  Loss:     0.0415 Validation Accuracy: 0.635000\n"
     ]
    }
   ],
   "source": [
    "\"\"\"\n",
    "DON'T MODIFY ANYTHING IN THIS CELL\n",
    "\"\"\"\n",
    "print('Checking the Training on a Single Batch...')\n",
    "with tf.Session() as sess:\n",
    "    # Initializing the variables\n",
    "    sess.run(tf.global_variables_initializer())\n",
    "    \n",
    "    # Training cycle\n",
    "    for epoch in range(epochs):\n",
    "        batch_i = 1\n",
    "        for batch_features, batch_labels in helper.load_preprocess_training_batch(batch_i, batch_size):\n",
    "            train_neural_network(sess, optimizer, keep_probability, batch_features, batch_labels)\n",
    "        print('Epoch {:>2}, CIFAR-10 Batch {}:  '.format(epoch + 1, batch_i), end='')\n",
    "        print_stats(sess, batch_features, batch_labels, cost, accuracy)"
   ]
  },
  {
   "cell_type": "markdown",
   "metadata": {
    "deletable": true,
    "editable": true
   },
   "source": [
    "### Fully Train the Model\n",
    "Now that you got a good accuracy with a single CIFAR-10 batch, try it with all five batches."
   ]
  },
  {
   "cell_type": "code",
   "execution_count": 32,
   "metadata": {
    "collapsed": false,
    "deletable": true,
    "editable": true
   },
   "outputs": [
    {
     "name": "stdout",
     "output_type": "stream",
     "text": [
      "Training...\n",
      "Epoch  1, CIFAR-10 Batch 1:  Loss:     2.1574 Validation Accuracy: 0.246000\n",
      "Epoch  1, CIFAR-10 Batch 2:  Loss:     1.8528 Validation Accuracy: 0.307400\n",
      "Epoch  1, CIFAR-10 Batch 3:  Loss:     1.6246 Validation Accuracy: 0.391000\n",
      "Epoch  1, CIFAR-10 Batch 4:  Loss:     1.5423 Validation Accuracy: 0.397400\n",
      "Epoch  1, CIFAR-10 Batch 5:  Loss:     1.5066 Validation Accuracy: 0.438600\n",
      "Epoch  2, CIFAR-10 Batch 1:  Loss:     1.5334 Validation Accuracy: 0.442400\n",
      "Epoch  2, CIFAR-10 Batch 2:  Loss:     1.4465 Validation Accuracy: 0.495200\n",
      "Epoch  2, CIFAR-10 Batch 3:  Loss:     1.2447 Validation Accuracy: 0.510600\n",
      "Epoch  2, CIFAR-10 Batch 4:  Loss:     1.1550 Validation Accuracy: 0.532000\n",
      "Epoch  2, CIFAR-10 Batch 5:  Loss:     1.1779 Validation Accuracy: 0.545200\n",
      "Epoch  3, CIFAR-10 Batch 1:  Loss:     1.2868 Validation Accuracy: 0.520400\n",
      "Epoch  3, CIFAR-10 Batch 2:  Loss:     1.2225 Validation Accuracy: 0.567000\n",
      "Epoch  3, CIFAR-10 Batch 3:  Loss:     1.0401 Validation Accuracy: 0.575000\n",
      "Epoch  3, CIFAR-10 Batch 4:  Loss:     0.9722 Validation Accuracy: 0.586600\n",
      "Epoch  3, CIFAR-10 Batch 5:  Loss:     0.9783 Validation Accuracy: 0.609400\n",
      "Epoch  4, CIFAR-10 Batch 1:  Loss:     1.0719 Validation Accuracy: 0.593800\n",
      "Epoch  4, CIFAR-10 Batch 2:  Loss:     1.0142 Validation Accuracy: 0.614800\n",
      "Epoch  4, CIFAR-10 Batch 3:  Loss:     0.9626 Validation Accuracy: 0.603600\n",
      "Epoch  4, CIFAR-10 Batch 4:  Loss:     0.8531 Validation Accuracy: 0.626000\n",
      "Epoch  4, CIFAR-10 Batch 5:  Loss:     0.8966 Validation Accuracy: 0.622000\n",
      "Epoch  5, CIFAR-10 Batch 1:  Loss:     0.9562 Validation Accuracy: 0.640600\n",
      "Epoch  5, CIFAR-10 Batch 2:  Loss:     0.9375 Validation Accuracy: 0.635800\n",
      "Epoch  5, CIFAR-10 Batch 3:  Loss:     0.8234 Validation Accuracy: 0.630600\n",
      "Epoch  5, CIFAR-10 Batch 4:  Loss:     0.7157 Validation Accuracy: 0.654600\n",
      "Epoch  5, CIFAR-10 Batch 5:  Loss:     0.7326 Validation Accuracy: 0.667000\n",
      "Epoch  6, CIFAR-10 Batch 1:  Loss:     0.8779 Validation Accuracy: 0.658600\n",
      "Epoch  6, CIFAR-10 Batch 2:  Loss:     0.8377 Validation Accuracy: 0.660200\n",
      "Epoch  6, CIFAR-10 Batch 3:  Loss:     0.7775 Validation Accuracy: 0.653400\n",
      "Epoch  6, CIFAR-10 Batch 4:  Loss:     0.6319 Validation Accuracy: 0.674600\n",
      "Epoch  6, CIFAR-10 Batch 5:  Loss:     0.7204 Validation Accuracy: 0.665400\n",
      "Epoch  7, CIFAR-10 Batch 1:  Loss:     0.8554 Validation Accuracy: 0.663400\n",
      "Epoch  7, CIFAR-10 Batch 2:  Loss:     0.7506 Validation Accuracy: 0.675200\n",
      "Epoch  7, CIFAR-10 Batch 3:  Loss:     0.7151 Validation Accuracy: 0.665000\n",
      "Epoch  7, CIFAR-10 Batch 4:  Loss:     0.5946 Validation Accuracy: 0.674400\n",
      "Epoch  7, CIFAR-10 Batch 5:  Loss:     0.6037 Validation Accuracy: 0.685000\n",
      "Epoch  8, CIFAR-10 Batch 1:  Loss:     0.7847 Validation Accuracy: 0.671200\n",
      "Epoch  8, CIFAR-10 Batch 2:  Loss:     0.6545 Validation Accuracy: 0.691800\n",
      "Epoch  8, CIFAR-10 Batch 3:  Loss:     0.6184 Validation Accuracy: 0.690200\n",
      "Epoch  8, CIFAR-10 Batch 4:  Loss:     0.5446 Validation Accuracy: 0.688200\n",
      "Epoch  8, CIFAR-10 Batch 5:  Loss:     0.5903 Validation Accuracy: 0.700600\n",
      "Epoch  9, CIFAR-10 Batch 1:  Loss:     0.6903 Validation Accuracy: 0.688800\n",
      "Epoch  9, CIFAR-10 Batch 2:  Loss:     0.6531 Validation Accuracy: 0.701800\n",
      "Epoch  9, CIFAR-10 Batch 3:  Loss:     0.5830 Validation Accuracy: 0.705200\n",
      "Epoch  9, CIFAR-10 Batch 4:  Loss:     0.4837 Validation Accuracy: 0.698000\n",
      "Epoch  9, CIFAR-10 Batch 5:  Loss:     0.5164 Validation Accuracy: 0.698800\n",
      "Epoch 10, CIFAR-10 Batch 1:  Loss:     0.5826 Validation Accuracy: 0.707200\n",
      "Epoch 10, CIFAR-10 Batch 2:  Loss:     0.5908 Validation Accuracy: 0.682400\n",
      "Epoch 10, CIFAR-10 Batch 3:  Loss:     0.5695 Validation Accuracy: 0.692800\n",
      "Epoch 10, CIFAR-10 Batch 4:  Loss:     0.4178 Validation Accuracy: 0.714000\n",
      "Epoch 10, CIFAR-10 Batch 5:  Loss:     0.4746 Validation Accuracy: 0.715400\n",
      "Epoch 11, CIFAR-10 Batch 1:  Loss:     0.5562 Validation Accuracy: 0.703800\n",
      "Epoch 11, CIFAR-10 Batch 2:  Loss:     0.5154 Validation Accuracy: 0.695200\n",
      "Epoch 11, CIFAR-10 Batch 3:  Loss:     0.5308 Validation Accuracy: 0.702800\n",
      "Epoch 11, CIFAR-10 Batch 4:  Loss:     0.4020 Validation Accuracy: 0.717200\n",
      "Epoch 11, CIFAR-10 Batch 5:  Loss:     0.4505 Validation Accuracy: 0.715000\n",
      "Epoch 12, CIFAR-10 Batch 1:  Loss:     0.5104 Validation Accuracy: 0.722400\n",
      "Epoch 12, CIFAR-10 Batch 2:  Loss:     0.4793 Validation Accuracy: 0.697600\n",
      "Epoch 12, CIFAR-10 Batch 3:  Loss:     0.4400 Validation Accuracy: 0.721800\n",
      "Epoch 12, CIFAR-10 Batch 4:  Loss:     0.3823 Validation Accuracy: 0.706400\n",
      "Epoch 12, CIFAR-10 Batch 5:  Loss:     0.4286 Validation Accuracy: 0.718200\n",
      "Epoch 13, CIFAR-10 Batch 1:  Loss:     0.4683 Validation Accuracy: 0.718000\n",
      "Epoch 13, CIFAR-10 Batch 2:  Loss:     0.4104 Validation Accuracy: 0.719800\n",
      "Epoch 13, CIFAR-10 Batch 3:  Loss:     0.4094 Validation Accuracy: 0.724000\n",
      "Epoch 13, CIFAR-10 Batch 4:  Loss:     0.3330 Validation Accuracy: 0.725800\n",
      "Epoch 13, CIFAR-10 Batch 5:  Loss:     0.3502 Validation Accuracy: 0.730000\n",
      "Epoch 14, CIFAR-10 Batch 1:  Loss:     0.4524 Validation Accuracy: 0.717800\n",
      "Epoch 14, CIFAR-10 Batch 2:  Loss:     0.4193 Validation Accuracy: 0.716200\n",
      "Epoch 14, CIFAR-10 Batch 3:  Loss:     0.3922 Validation Accuracy: 0.722400\n",
      "Epoch 14, CIFAR-10 Batch 4:  Loss:     0.3107 Validation Accuracy: 0.727400\n",
      "Epoch 14, CIFAR-10 Batch 5:  Loss:     0.3309 Validation Accuracy: 0.738000\n",
      "Epoch 15, CIFAR-10 Batch 1:  Loss:     0.4241 Validation Accuracy: 0.724000\n",
      "Epoch 15, CIFAR-10 Batch 2:  Loss:     0.4019 Validation Accuracy: 0.712800\n",
      "Epoch 15, CIFAR-10 Batch 3:  Loss:     0.3655 Validation Accuracy: 0.728200\n",
      "Epoch 15, CIFAR-10 Batch 4:  Loss:     0.3078 Validation Accuracy: 0.728200\n",
      "Epoch 15, CIFAR-10 Batch 5:  Loss:     0.3027 Validation Accuracy: 0.733800\n",
      "Epoch 16, CIFAR-10 Batch 1:  Loss:     0.3996 Validation Accuracy: 0.732000\n",
      "Epoch 16, CIFAR-10 Batch 2:  Loss:     0.3052 Validation Accuracy: 0.734000\n",
      "Epoch 16, CIFAR-10 Batch 3:  Loss:     0.3159 Validation Accuracy: 0.732400\n",
      "Epoch 16, CIFAR-10 Batch 4:  Loss:     0.2475 Validation Accuracy: 0.733800\n",
      "Epoch 16, CIFAR-10 Batch 5:  Loss:     0.2668 Validation Accuracy: 0.742800\n",
      "Epoch 17, CIFAR-10 Batch 1:  Loss:     0.3280 Validation Accuracy: 0.738800\n",
      "Epoch 17, CIFAR-10 Batch 2:  Loss:     0.2838 Validation Accuracy: 0.726400\n",
      "Epoch 17, CIFAR-10 Batch 3:  Loss:     0.2773 Validation Accuracy: 0.729400\n",
      "Epoch 17, CIFAR-10 Batch 4:  Loss:     0.2379 Validation Accuracy: 0.741600\n",
      "Epoch 17, CIFAR-10 Batch 5:  Loss:     0.2475 Validation Accuracy: 0.733200\n",
      "Epoch 18, CIFAR-10 Batch 1:  Loss:     0.3415 Validation Accuracy: 0.740800\n",
      "Epoch 18, CIFAR-10 Batch 2:  Loss:     0.2557 Validation Accuracy: 0.732600\n",
      "Epoch 18, CIFAR-10 Batch 3:  Loss:     0.2742 Validation Accuracy: 0.740200\n",
      "Epoch 18, CIFAR-10 Batch 4:  Loss:     0.2267 Validation Accuracy: 0.738200\n",
      "Epoch 18, CIFAR-10 Batch 5:  Loss:     0.2757 Validation Accuracy: 0.710200\n",
      "Epoch 19, CIFAR-10 Batch 1:  Loss:     0.3179 Validation Accuracy: 0.730600\n",
      "Epoch 19, CIFAR-10 Batch 2:  Loss:     0.2652 Validation Accuracy: 0.728800\n",
      "Epoch 19, CIFAR-10 Batch 3:  Loss:     0.2504 Validation Accuracy: 0.740000\n",
      "Epoch 19, CIFAR-10 Batch 4:  Loss:     0.2085 Validation Accuracy: 0.743200\n",
      "Epoch 19, CIFAR-10 Batch 5:  Loss:     0.2310 Validation Accuracy: 0.731800\n",
      "Epoch 20, CIFAR-10 Batch 1:  Loss:     0.2931 Validation Accuracy: 0.740400\n",
      "Epoch 20, CIFAR-10 Batch 2:  Loss:     0.2182 Validation Accuracy: 0.737800\n",
      "Epoch 20, CIFAR-10 Batch 3:  Loss:     0.2353 Validation Accuracy: 0.728400\n",
      "Epoch 20, CIFAR-10 Batch 4:  Loss:     0.1788 Validation Accuracy: 0.731000\n",
      "Epoch 20, CIFAR-10 Batch 5:  Loss:     0.2186 Validation Accuracy: 0.733200\n",
      "Epoch 21, CIFAR-10 Batch 1:  Loss:     0.2552 Validation Accuracy: 0.737200\n",
      "Epoch 21, CIFAR-10 Batch 2:  Loss:     0.2430 Validation Accuracy: 0.735000\n",
      "Epoch 21, CIFAR-10 Batch 3:  Loss:     0.2349 Validation Accuracy: 0.730200\n",
      "Epoch 21, CIFAR-10 Batch 4:  Loss:     0.1716 Validation Accuracy: 0.736400\n",
      "Epoch 21, CIFAR-10 Batch 5:  Loss:     0.1852 Validation Accuracy: 0.733200\n",
      "Epoch 22, CIFAR-10 Batch 1:  Loss:     0.2529 Validation Accuracy: 0.741000\n",
      "Epoch 22, CIFAR-10 Batch 2:  Loss:     0.2109 Validation Accuracy: 0.735200\n",
      "Epoch 22, CIFAR-10 Batch 3:  Loss:     0.2029 Validation Accuracy: 0.734000\n",
      "Epoch 22, CIFAR-10 Batch 4:  Loss:     0.1537 Validation Accuracy: 0.723800\n",
      "Epoch 22, CIFAR-10 Batch 5:  Loss:     0.1720 Validation Accuracy: 0.733200\n",
      "Epoch 23, CIFAR-10 Batch 1:  Loss:     0.2143 Validation Accuracy: 0.752200\n",
      "Epoch 23, CIFAR-10 Batch 2:  Loss:     0.1613 Validation Accuracy: 0.742200\n",
      "Epoch 23, CIFAR-10 Batch 3:  Loss:     0.1722 Validation Accuracy: 0.742600\n",
      "Epoch 23, CIFAR-10 Batch 4:  Loss:     0.1665 Validation Accuracy: 0.726200\n",
      "Epoch 23, CIFAR-10 Batch 5:  Loss:     0.1515 Validation Accuracy: 0.746400\n",
      "Epoch 24, CIFAR-10 Batch 1:  Loss:     0.2338 Validation Accuracy: 0.740400\n",
      "Epoch 24, CIFAR-10 Batch 2:  Loss:     0.1223 Validation Accuracy: 0.741400\n",
      "Epoch 24, CIFAR-10 Batch 3:  Loss:     0.1332 Validation Accuracy: 0.745000\n",
      "Epoch 24, CIFAR-10 Batch 4:  Loss:     0.1630 Validation Accuracy: 0.730600\n",
      "Epoch 24, CIFAR-10 Batch 5:  Loss:     0.1424 Validation Accuracy: 0.742800\n",
      "Epoch 25, CIFAR-10 Batch 1:  Loss:     0.1968 Validation Accuracy: 0.742200\n",
      "Epoch 25, CIFAR-10 Batch 2:  Loss:     0.1335 Validation Accuracy: 0.745400\n",
      "Epoch 25, CIFAR-10 Batch 3:  Loss:     0.1414 Validation Accuracy: 0.734200\n",
      "Epoch 25, CIFAR-10 Batch 4:  Loss:     0.1563 Validation Accuracy: 0.734400\n",
      "Epoch 25, CIFAR-10 Batch 5:  Loss:     0.1260 Validation Accuracy: 0.735000\n",
      "Epoch 26, CIFAR-10 Batch 1:  Loss:     0.1783 Validation Accuracy: 0.728200\n",
      "Epoch 26, CIFAR-10 Batch 2:  Loss:     0.1620 Validation Accuracy: 0.741000\n",
      "Epoch 26, CIFAR-10 Batch 3:  Loss:     0.1435 Validation Accuracy: 0.735800\n",
      "Epoch 26, CIFAR-10 Batch 4:  Loss:     0.1577 Validation Accuracy: 0.725400\n",
      "Epoch 26, CIFAR-10 Batch 5:  Loss:     0.1257 Validation Accuracy: 0.722800\n",
      "Epoch 27, CIFAR-10 Batch 1:  Loss:     0.1866 Validation Accuracy: 0.743200\n",
      "Epoch 27, CIFAR-10 Batch 2:  Loss:     0.1315 Validation Accuracy: 0.738600\n",
      "Epoch 27, CIFAR-10 Batch 3:  Loss:     0.1166 Validation Accuracy: 0.746600\n",
      "Epoch 27, CIFAR-10 Batch 4:  Loss:     0.1174 Validation Accuracy: 0.734400\n",
      "Epoch 27, CIFAR-10 Batch 5:  Loss:     0.1218 Validation Accuracy: 0.742000\n",
      "Epoch 28, CIFAR-10 Batch 1:  Loss:     0.1792 Validation Accuracy: 0.744800\n",
      "Epoch 28, CIFAR-10 Batch 2:  Loss:     0.1065 Validation Accuracy: 0.735600\n",
      "Epoch 28, CIFAR-10 Batch 3:  Loss:     0.0919 Validation Accuracy: 0.747600\n",
      "Epoch 28, CIFAR-10 Batch 4:  Loss:     0.1068 Validation Accuracy: 0.734800\n",
      "Epoch 28, CIFAR-10 Batch 5:  Loss:     0.0956 Validation Accuracy: 0.745600\n",
      "Epoch 29, CIFAR-10 Batch 1:  Loss:     0.1632 Validation Accuracy: 0.744400\n",
      "Epoch 29, CIFAR-10 Batch 2:  Loss:     0.0849 Validation Accuracy: 0.739800\n",
      "Epoch 29, CIFAR-10 Batch 3:  Loss:     0.0943 Validation Accuracy: 0.743000\n",
      "Epoch 29, CIFAR-10 Batch 4:  Loss:     0.0939 Validation Accuracy: 0.737200\n",
      "Epoch 29, CIFAR-10 Batch 5:  Loss:     0.0870 Validation Accuracy: 0.737600\n",
      "Epoch 30, CIFAR-10 Batch 1:  Loss:     0.1364 Validation Accuracy: 0.743800\n",
      "Epoch 30, CIFAR-10 Batch 2:  Loss:     0.0757 Validation Accuracy: 0.743600\n",
      "Epoch 30, CIFAR-10 Batch 3:  Loss:     0.0845 Validation Accuracy: 0.741400\n",
      "Epoch 30, CIFAR-10 Batch 4:  Loss:     0.0752 Validation Accuracy: 0.744600\n",
      "Epoch 30, CIFAR-10 Batch 5:  Loss:     0.0814 Validation Accuracy: 0.738600\n",
      "Epoch 31, CIFAR-10 Batch 1:  Loss:     0.1046 Validation Accuracy: 0.743600\n",
      "Epoch 31, CIFAR-10 Batch 2:  Loss:     0.0930 Validation Accuracy: 0.725400\n",
      "Epoch 31, CIFAR-10 Batch 3:  Loss:     0.0920 Validation Accuracy: 0.738200\n",
      "Epoch 31, CIFAR-10 Batch 4:  Loss:     0.0863 Validation Accuracy: 0.727600\n",
      "Epoch 31, CIFAR-10 Batch 5:  Loss:     0.0714 Validation Accuracy: 0.735600\n",
      "Epoch 32, CIFAR-10 Batch 1:  Loss:     0.1234 Validation Accuracy: 0.729800\n",
      "Epoch 32, CIFAR-10 Batch 2:  Loss:     0.0998 Validation Accuracy: 0.723800\n",
      "Epoch 32, CIFAR-10 Batch 3:  Loss:     0.0875 Validation Accuracy: 0.747400\n",
      "Epoch 32, CIFAR-10 Batch 4:  Loss:     0.0831 Validation Accuracy: 0.728200\n",
      "Epoch 32, CIFAR-10 Batch 5:  Loss:     0.0813 Validation Accuracy: 0.729200\n",
      "Epoch 33, CIFAR-10 Batch 1:  Loss:     0.1110 Validation Accuracy: 0.730600\n",
      "Epoch 33, CIFAR-10 Batch 2:  Loss:     0.0698 Validation Accuracy: 0.740000\n",
      "Epoch 33, CIFAR-10 Batch 3:  Loss:     0.0773 Validation Accuracy: 0.749000\n",
      "Epoch 33, CIFAR-10 Batch 4:  Loss:     0.0705 Validation Accuracy: 0.730800\n",
      "Epoch 33, CIFAR-10 Batch 5:  Loss:     0.0572 Validation Accuracy: 0.736800\n",
      "Epoch 34, CIFAR-10 Batch 1:  Loss:     0.0890 Validation Accuracy: 0.725200\n",
      "Epoch 34, CIFAR-10 Batch 2:  Loss:     0.0621 Validation Accuracy: 0.731600\n",
      "Epoch 34, CIFAR-10 Batch 3:  Loss:     0.0827 Validation Accuracy: 0.739800\n",
      "Epoch 34, CIFAR-10 Batch 4:  Loss:     0.0609 Validation Accuracy: 0.736800\n",
      "Epoch 34, CIFAR-10 Batch 5:  Loss:     0.0746 Validation Accuracy: 0.736000\n",
      "Epoch 35, CIFAR-10 Batch 1:  Loss:     0.1023 Validation Accuracy: 0.725600\n",
      "Epoch 35, CIFAR-10 Batch 2:  Loss:     0.0563 Validation Accuracy: 0.731800\n",
      "Epoch 35, CIFAR-10 Batch 3:  Loss:     0.0935 Validation Accuracy: 0.744400\n",
      "Epoch 35, CIFAR-10 Batch 4:  Loss:     0.0579 Validation Accuracy: 0.728400\n",
      "Epoch 35, CIFAR-10 Batch 5:  Loss:     0.0849 Validation Accuracy: 0.739800\n",
      "Epoch 36, CIFAR-10 Batch 1:  Loss:     0.1056 Validation Accuracy: 0.719600\n",
      "Epoch 36, CIFAR-10 Batch 2:  Loss:     0.0869 Validation Accuracy: 0.731400\n",
      "Epoch 36, CIFAR-10 Batch 3:  Loss:     0.0809 Validation Accuracy: 0.742400\n",
      "Epoch 36, CIFAR-10 Batch 4:  Loss:     0.0602 Validation Accuracy: 0.739400\n",
      "Epoch 36, CIFAR-10 Batch 5:  Loss:     0.0870 Validation Accuracy: 0.731400\n",
      "Epoch 37, CIFAR-10 Batch 1:  Loss:     0.0851 Validation Accuracy: 0.720800\n",
      "Epoch 37, CIFAR-10 Batch 2:  Loss:     0.0651 Validation Accuracy: 0.736400\n",
      "Epoch 37, CIFAR-10 Batch 3:  Loss:     0.0747 Validation Accuracy: 0.738200\n",
      "Epoch 37, CIFAR-10 Batch 4:  Loss:     0.0455 Validation Accuracy: 0.739000\n",
      "Epoch 37, CIFAR-10 Batch 5:  Loss:     0.0741 Validation Accuracy: 0.732600\n",
      "Epoch 38, CIFAR-10 Batch 1:  Loss:     0.0719 Validation Accuracy: 0.727800\n",
      "Epoch 38, CIFAR-10 Batch 2:  Loss:     0.0525 Validation Accuracy: 0.740200\n",
      "Epoch 38, CIFAR-10 Batch 3:  Loss:     0.0680 Validation Accuracy: 0.745000\n",
      "Epoch 38, CIFAR-10 Batch 4:  Loss:     0.0417 Validation Accuracy: 0.740400\n",
      "Epoch 38, CIFAR-10 Batch 5:  Loss:     0.0752 Validation Accuracy: 0.736000\n",
      "Epoch 39, CIFAR-10 Batch 1:  Loss:     0.0774 Validation Accuracy: 0.729600\n",
      "Epoch 39, CIFAR-10 Batch 2:  Loss:     0.0717 Validation Accuracy: 0.732600\n",
      "Epoch 39, CIFAR-10 Batch 3:  Loss:     0.0593 Validation Accuracy: 0.749600\n",
      "Epoch 39, CIFAR-10 Batch 4:  Loss:     0.0486 Validation Accuracy: 0.747800\n",
      "Epoch 39, CIFAR-10 Batch 5:  Loss:     0.0504 Validation Accuracy: 0.740800\n",
      "Epoch 40, CIFAR-10 Batch 1:  Loss:     0.0729 Validation Accuracy: 0.728200\n",
      "Epoch 40, CIFAR-10 Batch 2:  Loss:     0.0766 Validation Accuracy: 0.740200\n",
      "Epoch 40, CIFAR-10 Batch 3:  Loss:     0.0474 Validation Accuracy: 0.741200\n",
      "Epoch 40, CIFAR-10 Batch 4:  Loss:     0.0463 Validation Accuracy: 0.745000\n",
      "Epoch 40, CIFAR-10 Batch 5:  Loss:     0.0432 Validation Accuracy: 0.741600\n",
      "Epoch 41, CIFAR-10 Batch 1:  Loss:     0.0589 Validation Accuracy: 0.743600\n",
      "Epoch 41, CIFAR-10 Batch 2:  Loss:     0.0666 Validation Accuracy: 0.736200\n",
      "Epoch 41, CIFAR-10 Batch 3:  Loss:     0.0361 Validation Accuracy: 0.742800\n",
      "Epoch 41, CIFAR-10 Batch 4:  Loss:     0.0458 Validation Accuracy: 0.737800\n",
      "Epoch 41, CIFAR-10 Batch 5:  Loss:     0.0472 Validation Accuracy: 0.740800\n",
      "Epoch 42, CIFAR-10 Batch 1:  Loss:     0.0483 Validation Accuracy: 0.739800\n",
      "Epoch 42, CIFAR-10 Batch 2:  Loss:     0.0412 Validation Accuracy: 0.742400\n",
      "Epoch 42, CIFAR-10 Batch 3:  Loss:     0.0405 Validation Accuracy: 0.746000\n",
      "Epoch 42, CIFAR-10 Batch 4:  Loss:     0.0342 Validation Accuracy: 0.741000\n",
      "Epoch 42, CIFAR-10 Batch 5:  Loss:     0.0487 Validation Accuracy: 0.734000\n",
      "Epoch 43, CIFAR-10 Batch 1:  Loss:     0.0509 Validation Accuracy: 0.748600\n",
      "Epoch 43, CIFAR-10 Batch 2:  Loss:     0.0487 Validation Accuracy: 0.744800\n",
      "Epoch 43, CIFAR-10 Batch 3:  Loss:     0.0492 Validation Accuracy: 0.743200\n",
      "Epoch 43, CIFAR-10 Batch 4:  Loss:     0.0413 Validation Accuracy: 0.745600\n",
      "Epoch 43, CIFAR-10 Batch 5:  Loss:     0.0415 Validation Accuracy: 0.740600\n",
      "Epoch 44, CIFAR-10 Batch 1:  Loss:     0.0613 Validation Accuracy: 0.749000\n",
      "Epoch 44, CIFAR-10 Batch 2:  Loss:     0.0548 Validation Accuracy: 0.734400\n",
      "Epoch 44, CIFAR-10 Batch 3:  Loss:     0.0534 Validation Accuracy: 0.733400\n",
      "Epoch 44, CIFAR-10 Batch 4:  Loss:     0.0605 Validation Accuracy: 0.728200\n",
      "Epoch 44, CIFAR-10 Batch 5:  Loss:     0.0549 Validation Accuracy: 0.733000\n",
      "Epoch 45, CIFAR-10 Batch 1:  Loss:     0.0727 Validation Accuracy: 0.741600\n",
      "Epoch 45, CIFAR-10 Batch 2:  Loss:     0.0468 Validation Accuracy: 0.742200\n",
      "Epoch 45, CIFAR-10 Batch 3:  Loss:     0.0456 Validation Accuracy: 0.740400\n",
      "Epoch 45, CIFAR-10 Batch 4:  Loss:     0.0501 Validation Accuracy: 0.739800\n",
      "Epoch 45, CIFAR-10 Batch 5:  Loss:     0.0298 Validation Accuracy: 0.736000\n",
      "Epoch 46, CIFAR-10 Batch 1:  Loss:     0.0487 Validation Accuracy: 0.749000\n",
      "Epoch 46, CIFAR-10 Batch 2:  Loss:     0.0302 Validation Accuracy: 0.741400\n",
      "Epoch 46, CIFAR-10 Batch 3:  Loss:     0.0466 Validation Accuracy: 0.738400\n",
      "Epoch 46, CIFAR-10 Batch 4:  Loss:     0.0422 Validation Accuracy: 0.747600\n",
      "Epoch 46, CIFAR-10 Batch 5:  Loss:     0.0267 Validation Accuracy: 0.744600\n",
      "Epoch 47, CIFAR-10 Batch 1:  Loss:     0.0750 Validation Accuracy: 0.738000\n",
      "Epoch 47, CIFAR-10 Batch 2:  Loss:     0.0391 Validation Accuracy: 0.741600\n",
      "Epoch 47, CIFAR-10 Batch 3:  Loss:     0.0254 Validation Accuracy: 0.752600\n",
      "Epoch 47, CIFAR-10 Batch 4:  Loss:     0.0269 Validation Accuracy: 0.745200\n",
      "Epoch 47, CIFAR-10 Batch 5:  Loss:     0.0303 Validation Accuracy: 0.742400\n",
      "Epoch 48, CIFAR-10 Batch 1:  Loss:     0.0513 Validation Accuracy: 0.747600\n",
      "Epoch 48, CIFAR-10 Batch 2:  Loss:     0.0308 Validation Accuracy: 0.743800\n",
      "Epoch 48, CIFAR-10 Batch 3:  Loss:     0.0230 Validation Accuracy: 0.752200\n",
      "Epoch 48, CIFAR-10 Batch 4:  Loss:     0.0247 Validation Accuracy: 0.750400\n",
      "Epoch 48, CIFAR-10 Batch 5:  Loss:     0.0176 Validation Accuracy: 0.745800\n",
      "Epoch 49, CIFAR-10 Batch 1:  Loss:     0.0290 Validation Accuracy: 0.743400\n",
      "Epoch 49, CIFAR-10 Batch 2:  Loss:     0.0226 Validation Accuracy: 0.750200\n",
      "Epoch 49, CIFAR-10 Batch 3:  Loss:     0.0224 Validation Accuracy: 0.743400\n",
      "Epoch 49, CIFAR-10 Batch 4:  Loss:     0.0297 Validation Accuracy: 0.747400\n",
      "Epoch 49, CIFAR-10 Batch 5:  Loss:     0.0265 Validation Accuracy: 0.742800\n",
      "Epoch 50, CIFAR-10 Batch 1:  Loss:     0.0268 Validation Accuracy: 0.750400\n",
      "Epoch 50, CIFAR-10 Batch 2:  Loss:     0.0143 Validation Accuracy: 0.752800\n",
      "Epoch 50, CIFAR-10 Batch 3:  Loss:     0.0163 Validation Accuracy: 0.750600\n",
      "Epoch 50, CIFAR-10 Batch 4:  Loss:     0.0183 Validation Accuracy: 0.749200\n",
      "Epoch 50, CIFAR-10 Batch 5:  Loss:     0.0187 Validation Accuracy: 0.747800\n"
     ]
    }
   ],
   "source": [
    "\"\"\"\n",
    "DON'T MODIFY ANYTHING IN THIS CELL\n",
    "\"\"\"\n",
    "save_model_path = './image_classification'\n",
    "\n",
    "print('Training...')\n",
    "with tf.Session() as sess:\n",
    "    # Initializing the variables\n",
    "    sess.run(tf.global_variables_initializer())\n",
    "    \n",
    "    # Training cycle\n",
    "    for epoch in range(epochs):\n",
    "        # Loop over all batches\n",
    "        n_batches = 5\n",
    "        for batch_i in range(1, n_batches + 1):\n",
    "            for batch_features, batch_labels in helper.load_preprocess_training_batch(batch_i, batch_size):\n",
    "                train_neural_network(sess, optimizer, keep_probability, batch_features, batch_labels)\n",
    "            print('Epoch {:>2}, CIFAR-10 Batch {}:  '.format(epoch + 1, batch_i), end='')\n",
    "            print_stats(sess, batch_features, batch_labels, cost, accuracy)\n",
    "            \n",
    "    # Save Model\n",
    "    saver = tf.train.Saver()\n",
    "    save_path = saver.save(sess, save_model_path)"
   ]
  },
  {
   "cell_type": "markdown",
   "metadata": {
    "deletable": true,
    "editable": true
   },
   "source": [
    "# Checkpoint\n",
    "The model has been saved to disk.\n",
    "## Test Model\n",
    "Test your model against the test dataset.  This will be your final accuracy. You should have an accuracy greater than 50%. If you don't, keep tweaking the model architecture and parameters."
   ]
  },
  {
   "cell_type": "code",
   "execution_count": 33,
   "metadata": {
    "collapsed": false,
    "deletable": true,
    "editable": true
   },
   "outputs": [
    {
     "name": "stdout",
     "output_type": "stream",
     "text": [
      "Testing Accuracy: 0.7445140182971954\n",
      "\n"
     ]
    },
    {
     "data": {
      "image/png": "[encoded data removed]",
      "text/plain": [
       "<matplotlib.figure.Figure at 0x7fa8f87a1a90>"
      ]
     },
     "metadata": {
      "image/png": {
       "height": 319,
       "width": 355
      }
     },
     "output_type": "display_data"
    }
   ],
   "source": [
    "\"\"\"\n",
    "DON'T MODIFY ANYTHING IN THIS CELL\n",
    "\"\"\"\n",
    "%matplotlib inline\n",
    "%config InlineBackend.figure_format = 'retina'\n",
    "\n",
    "import tensorflow as tf\n",
    "import pickle\n",
    "import helper\n",
    "import random\n",
    "\n",
    "# Set batch size if not already set\n",
    "try:\n",
    "    if batch_size:\n",
    "        pass\n",
    "except NameError:\n",
    "    batch_size = 64\n",
    "\n",
    "save_model_path = './image_classification'\n",
    "n_samples = 4\n",
    "top_n_predictions = 3\n",
    "\n",
    "def test_model():\n",
    "    \"\"\"\n",
    "    Test the saved model against the test dataset\n",
    "    \"\"\"\n",
    "\n",
    "    test_features, test_labels = pickle.load(open('preprocess_training.p', mode='rb'))\n",
    "    loaded_graph = tf.Graph()\n",
    "\n",
    "    with tf.Session(graph=loaded_graph) as sess:\n",
    "        # Load model\n",
    "        loader = tf.train.import_meta_graph(save_model_path + '.meta')\n",
    "        loader.restore(sess, save_model_path)\n",
    "\n",
    "        # Get Tensors from loaded model\n",
    "        loaded_x = loaded_graph.get_tensor_by_name('x:0')\n",
    "        loaded_y = loaded_graph.get_tensor_by_name('y:0')\n",
    "        loaded_keep_prob = loaded_graph.get_tensor_by_name('keep_prob:0')\n",
    "        loaded_logits = loaded_graph.get_tensor_by_name('logits:0')\n",
    "        loaded_acc = loaded_graph.get_tensor_by_name('accuracy:0')\n",
    "        \n",
    "        # Get accuracy in batches for memory limitations\n",
    "        test_batch_acc_total = 0\n",
    "        test_batch_count = 0\n",
    "        \n",
    "        for train_feature_batch, train_label_batch in helper.batch_features_labels(test_features, test_labels, batch_size):\n",
    "            test_batch_acc_total += sess.run(\n",
    "                loaded_acc,\n",
    "                feed_dict={loaded_x: train_feature_batch, loaded_y: train_label_batch, loaded_keep_prob: 1.0})\n",
    "            test_batch_count += 1\n",
    "\n",
    "        print('Testing Accuracy: {}\\n'.format(test_batch_acc_total/test_batch_count))\n",
    "\n",
    "        # Print Random Samples\n",
    "        random_test_features, random_test_labels = tuple(zip(*random.sample(list(zip(test_features, test_labels)), n_samples)))\n",
    "        random_test_predictions = sess.run(\n",
    "            tf.nn.top_k(tf.nn.softmax(loaded_logits), top_n_predictions),\n",
    "            feed_dict={loaded_x: random_test_features, loaded_y: random_test_labels, loaded_keep_prob: 1.0})\n",
    "        helper.display_image_predictions(random_test_features, random_test_labels, random_test_predictions)\n",
    "\n",
    "\n",
    "test_model()"
   ]
  },
  {
   "cell_type": "markdown",
   "metadata": {
    "deletable": true,
    "editable": true
   },
   "source": [
    "## Why 50-70% Accuracy?\n",
    "You might be wondering why you can't get an accuracy any higher. First things first, 50% isn't bad for a simple CNN.  Pure guessing would get you 10% accuracy. However, you might notice people are getting scores [well above 70%](http://rodrigob.github.io/are_we_there_yet/build/classification_datasets_results.html#43494641522d3130).  That's because we haven't taught you all there is to know about neural networks. We still need to cover a few more techniques.\n",
    "## Submitting This Project\n",
    "When submitting this project, make sure to run all the cells before saving the notebook.  Save the notebook file as \"dlnd_image_classification.ipynb\" and save it as a HTML file under \"File\" -> \"Download as\".  Include the \"helper.py\" and \"problem_unittests.py\" files in your submission."
   ]
  }
 ],
 "metadata": {
  "kernelspec": {
   "display_name": "Python 3",
   "language": "python",
   "name": "python3"
  },
  "language_info": {
   "codemirror_mode": {
    "name": "ipython",
    "version": 3
   },
   "file_extension": ".py",
   "mimetype": "text/x-python",
   "name": "python",
   "nbconvert_exporter": "python",
   "pygments_lexer": "ipython3",
   "version": "3.5.2"
  },
  "widgets": {
   "state": {},
   "version": "1.1.2"
  }
 },
 "nbformat": 4,
 "nbformat_minor": 0
}
